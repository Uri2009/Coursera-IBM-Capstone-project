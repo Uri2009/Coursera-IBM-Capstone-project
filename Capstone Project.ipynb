{
 "cells": [
  {
   "cell_type": "markdown",
   "metadata": {},
   "source": [
    "# Capstone Project - Predicting the severity of road accidents in Great Britian\n",
    "\n",
    "### Applied Data Science Capstone by IBM/Coursera"
   ]
  },
  {
   "cell_type": "markdown",
   "metadata": {},
   "source": [
    "## Table of contents\n",
    "* [Introduction](#introduction)\n",
    "* [Data Description](#data_description)\n",
    "* [Data Analysis](#data_analysis)\n",
    "* [Modeling](#modeling)\n",
    "* [Results and Discussion](#rnd)\n",
    "* [Conclusion](#conclusion)"
   ]
  },
  {
   "cell_type": "markdown",
   "metadata": {},
   "source": [
    "\n",
    "## Introduction <a name=\"introduction\"></a>"
   ]
  },
  {
   "cell_type": "markdown",
   "metadata": {},
   "source": [
    "Road safety and the occurrence of car accidents has been one of the biggest concerns across the world. According to the World Health Organization (WHO), there are approximately 1.35 million people die each year as a result of road traffic crashes and they cost most countries 3% of their gross domestic product. On average, five people die every day on the road in Great Britain and countless more are seriously injured. Britain's road safety record has stagnated in recent years, with the number of road deaths remaining broadly constant for several years.\n",
    "\n",
    "It would be helpful if the UK local government can gain more understanding from the road accidents that already occurred so they can take immediate and effective actions to further reduce the severity of incidents on the roads. Looking at historical data behind the road accidents also benefit the local insurance companies for them to work out better model on premium evaluation.\n",
    "\n",
    "There are various of factors could contribute to determining the severity of road accidents in UK, some are related to people (drivers, passengers etc.) and the others are related to road facilities or nature. This project aims to predict how these factors would affect the severity of the road accidents."
   ]
  },
  {
   "cell_type": "markdown",
   "metadata": {},
   "source": [
    "## Data Description<a name=\"data_description\"></a>"
   ]
  },
  {
   "cell_type": "markdown",
   "metadata": {},
   "source": [
    "The dataset to be analysed in this project can be found from Kaggle. It was fetched from UK government open data sources and primarily captures road accidents in UK between 1979 and 2015 and has 70 features/columns with around 250,000 records.\n"
   ]
  },
  {
   "cell_type": "code",
   "execution_count": 1,
   "metadata": {},
   "outputs": [
    {
     "data": {
      "text/html": [
       "<div>\n",
       "<style scoped>\n",
       "    .dataframe tbody tr th:only-of-type {\n",
       "        vertical-align: middle;\n",
       "    }\n",
       "\n",
       "    .dataframe tbody tr th {\n",
       "        vertical-align: top;\n",
       "    }\n",
       "\n",
       "    .dataframe thead th {\n",
       "        text-align: right;\n",
       "    }\n",
       "</style>\n",
       "<table border=\"1\" class=\"dataframe\">\n",
       "  <thead>\n",
       "    <tr style=\"text-align: right;\">\n",
       "      <th></th>\n",
       "      <th>accident_index</th>\n",
       "      <th>vehicle_reference</th>\n",
       "      <th>vehicle_type</th>\n",
       "      <th>towing_and_articulation</th>\n",
       "      <th>vehicle_manoeuvre</th>\n",
       "      <th>vehicle_location-restricted_lane</th>\n",
       "      <th>junction_location</th>\n",
       "      <th>skidding_and_overturning</th>\n",
       "      <th>hit_object_in_carriageway</th>\n",
       "      <th>vehicle_leaving_carriageway</th>\n",
       "      <th>hit_object_off_carriageway</th>\n",
       "      <th>1st_point_of_impact</th>\n",
       "      <th>was_vehicle_left_hand_drive?</th>\n",
       "      <th>journey_purpose_of_driver</th>\n",
       "      <th>sex_of_driver</th>\n",
       "      <th>age_of_driver</th>\n",
       "      <th>age_band_of_driver</th>\n",
       "      <th>engine_capacity_(cc)</th>\n",
       "      <th>propulsion_code</th>\n",
       "      <th>age_of_vehicle</th>\n",
       "      <th>driver_imd_decile</th>\n",
       "      <th>driver_home_area_type</th>\n",
       "      <th>vehicle_imd_decile</th>\n",
       "      <th>NUmber_of_Casualities_unique_to_accident_index</th>\n",
       "      <th>No_of_Vehicles_involved_unique_to_accident_index</th>\n",
       "      <th>location_easting_osgr</th>\n",
       "      <th>location_northing_osgr</th>\n",
       "      <th>longitude</th>\n",
       "      <th>latitude</th>\n",
       "      <th>police_force</th>\n",
       "      <th>accident_severity</th>\n",
       "      <th>number_of_vehicles</th>\n",
       "      <th>number_of_casualties</th>\n",
       "      <th>date</th>\n",
       "      <th>day_of_week</th>\n",
       "      <th>time</th>\n",
       "      <th>local_authority_(district)</th>\n",
       "      <th>local_authority_(highway)</th>\n",
       "      <th>1st_road_class</th>\n",
       "      <th>1st_road_number</th>\n",
       "      <th>road_type</th>\n",
       "      <th>speed_limit</th>\n",
       "      <th>junction_detail</th>\n",
       "      <th>junction_control</th>\n",
       "      <th>2nd_road_class</th>\n",
       "      <th>2nd_road_number</th>\n",
       "      <th>pedestrian_crossing-human_control</th>\n",
       "      <th>pedestrian_crossing-physical_facilities</th>\n",
       "      <th>light_conditions</th>\n",
       "      <th>weather_conditions</th>\n",
       "      <th>road_surface_conditions</th>\n",
       "      <th>special_conditions_at_site</th>\n",
       "      <th>carriageway_hazards</th>\n",
       "      <th>urban_or_rural_area</th>\n",
       "      <th>did_police_officer_attend_scene_of_accident</th>\n",
       "      <th>lsoa_of_accident_location</th>\n",
       "      <th>casualty_reference</th>\n",
       "      <th>casualty_class</th>\n",
       "      <th>sex_of_casualty</th>\n",
       "      <th>age_of_casualty</th>\n",
       "      <th>age_band_of_casualty</th>\n",
       "      <th>casualty_severity</th>\n",
       "      <th>pedestrian_location</th>\n",
       "      <th>pedestrian_movement</th>\n",
       "      <th>car_passenger</th>\n",
       "      <th>bus_or_coach_passenger</th>\n",
       "      <th>pedestrian_road_maintenance_worker</th>\n",
       "      <th>casualty_type</th>\n",
       "      <th>casualty_home_area_type</th>\n",
       "      <th>casualty_imd_decile</th>\n",
       "    </tr>\n",
       "  </thead>\n",
       "  <tbody>\n",
       "    <tr>\n",
       "      <th>0</th>\n",
       "      <td>201506E098757</td>\n",
       "      <td>2</td>\n",
       "      <td>9</td>\n",
       "      <td>0</td>\n",
       "      <td>18</td>\n",
       "      <td>0</td>\n",
       "      <td>8</td>\n",
       "      <td>0</td>\n",
       "      <td>0</td>\n",
       "      <td>0</td>\n",
       "      <td>0</td>\n",
       "      <td>3</td>\n",
       "      <td>1</td>\n",
       "      <td>6</td>\n",
       "      <td>1</td>\n",
       "      <td>45</td>\n",
       "      <td>7</td>\n",
       "      <td>1794</td>\n",
       "      <td>1</td>\n",
       "      <td>11</td>\n",
       "      <td>-1</td>\n",
       "      <td>1</td>\n",
       "      <td>-1</td>\n",
       "      <td>1</td>\n",
       "      <td>2</td>\n",
       "      <td>384980.0</td>\n",
       "      <td>394830.0</td>\n",
       "      <td>-2.227629</td>\n",
       "      <td>53.450014</td>\n",
       "      <td>6</td>\n",
       "      <td>3</td>\n",
       "      <td>2</td>\n",
       "      <td>1</td>\n",
       "      <td>42250</td>\n",
       "      <td>2</td>\n",
       "      <td>1899-12-30 12:56:00</td>\n",
       "      <td>102</td>\n",
       "      <td>E08000003</td>\n",
       "      <td>5</td>\n",
       "      <td>0</td>\n",
       "      <td>6</td>\n",
       "      <td>30</td>\n",
       "      <td>3</td>\n",
       "      <td>4</td>\n",
       "      <td>6</td>\n",
       "      <td>0</td>\n",
       "      <td>0</td>\n",
       "      <td>0</td>\n",
       "      <td>1</td>\n",
       "      <td>1</td>\n",
       "      <td>1</td>\n",
       "      <td>0</td>\n",
       "      <td>0</td>\n",
       "      <td>1</td>\n",
       "      <td>2</td>\n",
       "      <td>E01005288</td>\n",
       "      <td>NaN</td>\n",
       "      <td>NaN</td>\n",
       "      <td>NaN</td>\n",
       "      <td>NaN</td>\n",
       "      <td>NaN</td>\n",
       "      <td>NaN</td>\n",
       "      <td>NaN</td>\n",
       "      <td>NaN</td>\n",
       "      <td>NaN</td>\n",
       "      <td>NaN</td>\n",
       "      <td>NaN</td>\n",
       "      <td>NaN</td>\n",
       "      <td>NaN</td>\n",
       "      <td>NaN</td>\n",
       "    </tr>\n",
       "    <tr>\n",
       "      <th>1</th>\n",
       "      <td>201506E098766</td>\n",
       "      <td>1</td>\n",
       "      <td>9</td>\n",
       "      <td>0</td>\n",
       "      <td>9</td>\n",
       "      <td>0</td>\n",
       "      <td>8</td>\n",
       "      <td>0</td>\n",
       "      <td>0</td>\n",
       "      <td>0</td>\n",
       "      <td>0</td>\n",
       "      <td>4</td>\n",
       "      <td>1</td>\n",
       "      <td>6</td>\n",
       "      <td>2</td>\n",
       "      <td>25</td>\n",
       "      <td>5</td>\n",
       "      <td>1582</td>\n",
       "      <td>2</td>\n",
       "      <td>1</td>\n",
       "      <td>-1</td>\n",
       "      <td>-1</td>\n",
       "      <td>-1</td>\n",
       "      <td>1</td>\n",
       "      <td>2</td>\n",
       "      <td>383870.0</td>\n",
       "      <td>394420.0</td>\n",
       "      <td>-2.244322</td>\n",
       "      <td>53.446296</td>\n",
       "      <td>6</td>\n",
       "      <td>3</td>\n",
       "      <td>2</td>\n",
       "      <td>1</td>\n",
       "      <td>14/03/2015</td>\n",
       "      <td>7</td>\n",
       "      <td>1899-12-30 15:55:00</td>\n",
       "      <td>102</td>\n",
       "      <td>E08000003</td>\n",
       "      <td>3</td>\n",
       "      <td>5103</td>\n",
       "      <td>3</td>\n",
       "      <td>40</td>\n",
       "      <td>6</td>\n",
       "      <td>2</td>\n",
       "      <td>5</td>\n",
       "      <td>0</td>\n",
       "      <td>0</td>\n",
       "      <td>5</td>\n",
       "      <td>1</td>\n",
       "      <td>1</td>\n",
       "      <td>1</td>\n",
       "      <td>0</td>\n",
       "      <td>0</td>\n",
       "      <td>1</td>\n",
       "      <td>1</td>\n",
       "      <td>E01005178</td>\n",
       "      <td>NaN</td>\n",
       "      <td>NaN</td>\n",
       "      <td>NaN</td>\n",
       "      <td>NaN</td>\n",
       "      <td>NaN</td>\n",
       "      <td>NaN</td>\n",
       "      <td>NaN</td>\n",
       "      <td>NaN</td>\n",
       "      <td>NaN</td>\n",
       "      <td>NaN</td>\n",
       "      <td>NaN</td>\n",
       "      <td>NaN</td>\n",
       "      <td>NaN</td>\n",
       "      <td>NaN</td>\n",
       "    </tr>\n",
       "    <tr>\n",
       "      <th>2</th>\n",
       "      <td>201506E098766</td>\n",
       "      <td>2</td>\n",
       "      <td>9</td>\n",
       "      <td>0</td>\n",
       "      <td>18</td>\n",
       "      <td>0</td>\n",
       "      <td>8</td>\n",
       "      <td>0</td>\n",
       "      <td>0</td>\n",
       "      <td>0</td>\n",
       "      <td>0</td>\n",
       "      <td>1</td>\n",
       "      <td>1</td>\n",
       "      <td>6</td>\n",
       "      <td>1</td>\n",
       "      <td>51</td>\n",
       "      <td>8</td>\n",
       "      <td>-1</td>\n",
       "      <td>-1</td>\n",
       "      <td>-1</td>\n",
       "      <td>-1</td>\n",
       "      <td>1</td>\n",
       "      <td>-1</td>\n",
       "      <td>1</td>\n",
       "      <td>2</td>\n",
       "      <td>383870.0</td>\n",
       "      <td>394420.0</td>\n",
       "      <td>-2.244322</td>\n",
       "      <td>53.446296</td>\n",
       "      <td>6</td>\n",
       "      <td>3</td>\n",
       "      <td>2</td>\n",
       "      <td>1</td>\n",
       "      <td>14/03/2015</td>\n",
       "      <td>7</td>\n",
       "      <td>1899-12-30 15:55:00</td>\n",
       "      <td>102</td>\n",
       "      <td>E08000003</td>\n",
       "      <td>3</td>\n",
       "      <td>5103</td>\n",
       "      <td>3</td>\n",
       "      <td>40</td>\n",
       "      <td>6</td>\n",
       "      <td>2</td>\n",
       "      <td>5</td>\n",
       "      <td>0</td>\n",
       "      <td>0</td>\n",
       "      <td>5</td>\n",
       "      <td>1</td>\n",
       "      <td>1</td>\n",
       "      <td>1</td>\n",
       "      <td>0</td>\n",
       "      <td>0</td>\n",
       "      <td>1</td>\n",
       "      <td>1</td>\n",
       "      <td>E01005178</td>\n",
       "      <td>1.0</td>\n",
       "      <td>1.0</td>\n",
       "      <td>1.0</td>\n",
       "      <td>51.0</td>\n",
       "      <td>8.0</td>\n",
       "      <td>3.0</td>\n",
       "      <td>0.0</td>\n",
       "      <td>0.0</td>\n",
       "      <td>0.0</td>\n",
       "      <td>0.0</td>\n",
       "      <td>0.0</td>\n",
       "      <td>9.0</td>\n",
       "      <td>1.0</td>\n",
       "      <td>3.0</td>\n",
       "    </tr>\n",
       "    <tr>\n",
       "      <th>3</th>\n",
       "      <td>201506E098777</td>\n",
       "      <td>1</td>\n",
       "      <td>20</td>\n",
       "      <td>0</td>\n",
       "      <td>4</td>\n",
       "      <td>0</td>\n",
       "      <td>0</td>\n",
       "      <td>0</td>\n",
       "      <td>0</td>\n",
       "      <td>0</td>\n",
       "      <td>0</td>\n",
       "      <td>1</td>\n",
       "      <td>1</td>\n",
       "      <td>1</td>\n",
       "      <td>1</td>\n",
       "      <td>50</td>\n",
       "      <td>8</td>\n",
       "      <td>4462</td>\n",
       "      <td>2</td>\n",
       "      <td>1</td>\n",
       "      <td>-1</td>\n",
       "      <td>1</td>\n",
       "      <td>-1</td>\n",
       "      <td>1</td>\n",
       "      <td>1</td>\n",
       "      <td>386710.0</td>\n",
       "      <td>395700.0</td>\n",
       "      <td>-2.201617</td>\n",
       "      <td>53.457881</td>\n",
       "      <td>6</td>\n",
       "      <td>3</td>\n",
       "      <td>1</td>\n",
       "      <td>1</td>\n",
       "      <td>42311</td>\n",
       "      <td>4</td>\n",
       "      <td>1899-12-30 10:15:00</td>\n",
       "      <td>102</td>\n",
       "      <td>E08000003</td>\n",
       "      <td>3</td>\n",
       "      <td>6</td>\n",
       "      <td>6</td>\n",
       "      <td>30</td>\n",
       "      <td>0</td>\n",
       "      <td>-1</td>\n",
       "      <td>-1</td>\n",
       "      <td>0</td>\n",
       "      <td>0</td>\n",
       "      <td>4</td>\n",
       "      <td>1</td>\n",
       "      <td>1</td>\n",
       "      <td>1</td>\n",
       "      <td>0</td>\n",
       "      <td>0</td>\n",
       "      <td>1</td>\n",
       "      <td>1</td>\n",
       "      <td>E01005232</td>\n",
       "      <td>1.0</td>\n",
       "      <td>3.0</td>\n",
       "      <td>2.0</td>\n",
       "      <td>34.0</td>\n",
       "      <td>6.0</td>\n",
       "      <td>3.0</td>\n",
       "      <td>1.0</td>\n",
       "      <td>1.0</td>\n",
       "      <td>0.0</td>\n",
       "      <td>0.0</td>\n",
       "      <td>0.0</td>\n",
       "      <td>0.0</td>\n",
       "      <td>1.0</td>\n",
       "      <td>1.0</td>\n",
       "    </tr>\n",
       "    <tr>\n",
       "      <th>4</th>\n",
       "      <td>201506E098780</td>\n",
       "      <td>1</td>\n",
       "      <td>9</td>\n",
       "      <td>0</td>\n",
       "      <td>15</td>\n",
       "      <td>0</td>\n",
       "      <td>1</td>\n",
       "      <td>0</td>\n",
       "      <td>0</td>\n",
       "      <td>0</td>\n",
       "      <td>0</td>\n",
       "      <td>4</td>\n",
       "      <td>1</td>\n",
       "      <td>6</td>\n",
       "      <td>1</td>\n",
       "      <td>27</td>\n",
       "      <td>6</td>\n",
       "      <td>1598</td>\n",
       "      <td>2</td>\n",
       "      <td>-1</td>\n",
       "      <td>-1</td>\n",
       "      <td>1</td>\n",
       "      <td>-1</td>\n",
       "      <td>1</td>\n",
       "      <td>2</td>\n",
       "      <td>384280.0</td>\n",
       "      <td>395200.0</td>\n",
       "      <td>-2.238188</td>\n",
       "      <td>53.453319</td>\n",
       "      <td>6</td>\n",
       "      <td>3</td>\n",
       "      <td>2</td>\n",
       "      <td>1</td>\n",
       "      <td>42158</td>\n",
       "      <td>6</td>\n",
       "      <td>1899-12-30 08:03:00</td>\n",
       "      <td>102</td>\n",
       "      <td>E08000003</td>\n",
       "      <td>5</td>\n",
       "      <td>0</td>\n",
       "      <td>6</td>\n",
       "      <td>30</td>\n",
       "      <td>3</td>\n",
       "      <td>4</td>\n",
       "      <td>6</td>\n",
       "      <td>0</td>\n",
       "      <td>0</td>\n",
       "      <td>0</td>\n",
       "      <td>1</td>\n",
       "      <td>1</td>\n",
       "      <td>1</td>\n",
       "      <td>0</td>\n",
       "      <td>0</td>\n",
       "      <td>1</td>\n",
       "      <td>2</td>\n",
       "      <td>E01005242</td>\n",
       "      <td>NaN</td>\n",
       "      <td>NaN</td>\n",
       "      <td>NaN</td>\n",
       "      <td>NaN</td>\n",
       "      <td>NaN</td>\n",
       "      <td>NaN</td>\n",
       "      <td>NaN</td>\n",
       "      <td>NaN</td>\n",
       "      <td>NaN</td>\n",
       "      <td>NaN</td>\n",
       "      <td>NaN</td>\n",
       "      <td>NaN</td>\n",
       "      <td>NaN</td>\n",
       "      <td>NaN</td>\n",
       "    </tr>\n",
       "  </tbody>\n",
       "</table>\n",
       "</div>"
      ],
      "text/plain": [
       "  accident_index  vehicle_reference  vehicle_type  towing_and_articulation  \\\n",
       "0  201506E098757                  2             9                        0   \n",
       "1  201506E098766                  1             9                        0   \n",
       "2  201506E098766                  2             9                        0   \n",
       "3  201506E098777                  1            20                        0   \n",
       "4  201506E098780                  1             9                        0   \n",
       "\n",
       "   vehicle_manoeuvre  vehicle_location-restricted_lane  junction_location  \\\n",
       "0                 18                                 0                  8   \n",
       "1                  9                                 0                  8   \n",
       "2                 18                                 0                  8   \n",
       "3                  4                                 0                  0   \n",
       "4                 15                                 0                  1   \n",
       "\n",
       "   skidding_and_overturning  hit_object_in_carriageway  \\\n",
       "0                         0                          0   \n",
       "1                         0                          0   \n",
       "2                         0                          0   \n",
       "3                         0                          0   \n",
       "4                         0                          0   \n",
       "\n",
       "   vehicle_leaving_carriageway  hit_object_off_carriageway  \\\n",
       "0                            0                           0   \n",
       "1                            0                           0   \n",
       "2                            0                           0   \n",
       "3                            0                           0   \n",
       "4                            0                           0   \n",
       "\n",
       "   1st_point_of_impact  was_vehicle_left_hand_drive?  \\\n",
       "0                    3                             1   \n",
       "1                    4                             1   \n",
       "2                    1                             1   \n",
       "3                    1                             1   \n",
       "4                    4                             1   \n",
       "\n",
       "   journey_purpose_of_driver  sex_of_driver  age_of_driver  \\\n",
       "0                          6              1             45   \n",
       "1                          6              2             25   \n",
       "2                          6              1             51   \n",
       "3                          1              1             50   \n",
       "4                          6              1             27   \n",
       "\n",
       "   age_band_of_driver  engine_capacity_(cc)  propulsion_code  age_of_vehicle  \\\n",
       "0                   7                  1794                1              11   \n",
       "1                   5                  1582                2               1   \n",
       "2                   8                    -1               -1              -1   \n",
       "3                   8                  4462                2               1   \n",
       "4                   6                  1598                2              -1   \n",
       "\n",
       "   driver_imd_decile  driver_home_area_type  vehicle_imd_decile  \\\n",
       "0                 -1                      1                  -1   \n",
       "1                 -1                     -1                  -1   \n",
       "2                 -1                      1                  -1   \n",
       "3                 -1                      1                  -1   \n",
       "4                 -1                      1                  -1   \n",
       "\n",
       "   NUmber_of_Casualities_unique_to_accident_index  \\\n",
       "0                                               1   \n",
       "1                                               1   \n",
       "2                                               1   \n",
       "3                                               1   \n",
       "4                                               1   \n",
       "\n",
       "   No_of_Vehicles_involved_unique_to_accident_index  location_easting_osgr  \\\n",
       "0                                                 2               384980.0   \n",
       "1                                                 2               383870.0   \n",
       "2                                                 2               383870.0   \n",
       "3                                                 1               386710.0   \n",
       "4                                                 2               384280.0   \n",
       "\n",
       "   location_northing_osgr  longitude   latitude  police_force  \\\n",
       "0                394830.0  -2.227629  53.450014             6   \n",
       "1                394420.0  -2.244322  53.446296             6   \n",
       "2                394420.0  -2.244322  53.446296             6   \n",
       "3                395700.0  -2.201617  53.457881             6   \n",
       "4                395200.0  -2.238188  53.453319             6   \n",
       "\n",
       "   accident_severity  number_of_vehicles  number_of_casualties        date  \\\n",
       "0                  3                   2                     1       42250   \n",
       "1                  3                   2                     1  14/03/2015   \n",
       "2                  3                   2                     1  14/03/2015   \n",
       "3                  3                   1                     1       42311   \n",
       "4                  3                   2                     1       42158   \n",
       "\n",
       "   day_of_week                 time  local_authority_(district)  \\\n",
       "0            2  1899-12-30 12:56:00                         102   \n",
       "1            7  1899-12-30 15:55:00                         102   \n",
       "2            7  1899-12-30 15:55:00                         102   \n",
       "3            4  1899-12-30 10:15:00                         102   \n",
       "4            6  1899-12-30 08:03:00                         102   \n",
       "\n",
       "  local_authority_(highway)  1st_road_class  1st_road_number  road_type  \\\n",
       "0                 E08000003               5                0          6   \n",
       "1                 E08000003               3             5103          3   \n",
       "2                 E08000003               3             5103          3   \n",
       "3                 E08000003               3                6          6   \n",
       "4                 E08000003               5                0          6   \n",
       "\n",
       "   speed_limit  junction_detail  junction_control  2nd_road_class  \\\n",
       "0           30                3                 4               6   \n",
       "1           40                6                 2               5   \n",
       "2           40                6                 2               5   \n",
       "3           30                0                -1              -1   \n",
       "4           30                3                 4               6   \n",
       "\n",
       "   2nd_road_number  pedestrian_crossing-human_control  \\\n",
       "0                0                                  0   \n",
       "1                0                                  0   \n",
       "2                0                                  0   \n",
       "3                0                                  0   \n",
       "4                0                                  0   \n",
       "\n",
       "   pedestrian_crossing-physical_facilities  light_conditions  \\\n",
       "0                                        0                 1   \n",
       "1                                        5                 1   \n",
       "2                                        5                 1   \n",
       "3                                        4                 1   \n",
       "4                                        0                 1   \n",
       "\n",
       "   weather_conditions  road_surface_conditions  special_conditions_at_site  \\\n",
       "0                   1                        1                           0   \n",
       "1                   1                        1                           0   \n",
       "2                   1                        1                           0   \n",
       "3                   1                        1                           0   \n",
       "4                   1                        1                           0   \n",
       "\n",
       "   carriageway_hazards  urban_or_rural_area  \\\n",
       "0                    0                    1   \n",
       "1                    0                    1   \n",
       "2                    0                    1   \n",
       "3                    0                    1   \n",
       "4                    0                    1   \n",
       "\n",
       "   did_police_officer_attend_scene_of_accident lsoa_of_accident_location  \\\n",
       "0                                            2                 E01005288   \n",
       "1                                            1                 E01005178   \n",
       "2                                            1                 E01005178   \n",
       "3                                            1                 E01005232   \n",
       "4                                            2                 E01005242   \n",
       "\n",
       "   casualty_reference  casualty_class  sex_of_casualty  age_of_casualty  \\\n",
       "0                 NaN             NaN              NaN              NaN   \n",
       "1                 NaN             NaN              NaN              NaN   \n",
       "2                 1.0             1.0              1.0             51.0   \n",
       "3                 1.0             3.0              2.0             34.0   \n",
       "4                 NaN             NaN              NaN              NaN   \n",
       "\n",
       "   age_band_of_casualty  casualty_severity  pedestrian_location  \\\n",
       "0                   NaN                NaN                  NaN   \n",
       "1                   NaN                NaN                  NaN   \n",
       "2                   8.0                3.0                  0.0   \n",
       "3                   6.0                3.0                  1.0   \n",
       "4                   NaN                NaN                  NaN   \n",
       "\n",
       "   pedestrian_movement  car_passenger  bus_or_coach_passenger  \\\n",
       "0                  NaN            NaN                     NaN   \n",
       "1                  NaN            NaN                     NaN   \n",
       "2                  0.0            0.0                     0.0   \n",
       "3                  1.0            0.0                     0.0   \n",
       "4                  NaN            NaN                     NaN   \n",
       "\n",
       "   pedestrian_road_maintenance_worker  casualty_type  casualty_home_area_type  \\\n",
       "0                                 NaN            NaN                      NaN   \n",
       "1                                 NaN            NaN                      NaN   \n",
       "2                                 0.0            9.0                      1.0   \n",
       "3                                 0.0            0.0                      1.0   \n",
       "4                                 NaN            NaN                      NaN   \n",
       "\n",
       "   casualty_imd_decile  \n",
       "0                  NaN  \n",
       "1                  NaN  \n",
       "2                  3.0  \n",
       "3                  1.0  \n",
       "4                  NaN  "
      ]
     },
     "execution_count": 1,
     "metadata": {},
     "output_type": "execute_result"
    }
   ],
   "source": [
    "import pandas as pd\n",
    "df=pd.read_csv('https://github.com/Uri2009/Coursera-IBM-Capstone-project/blob/master/Kaagle_Upload.csv?raw=true',low_memory=False)\n",
    "pd.set_option('display.max_columns', None)\n",
    "df.head()"
   ]
  },
  {
   "cell_type": "code",
   "execution_count": 2,
   "metadata": {},
   "outputs": [
    {
     "data": {
      "text/plain": [
       "(205852, 70)"
      ]
     },
     "execution_count": 2,
     "metadata": {},
     "output_type": "execute_result"
    }
   ],
   "source": [
    "df_clean1=df[df['vehicle_type']==9]\n",
    "df_clean1.head()\n",
    "df_clean1.shape"
   ]
  },
  {
   "cell_type": "code",
   "execution_count": 3,
   "metadata": {},
   "outputs": [
    {
     "data": {
      "text/html": [
       "<div>\n",
       "<style scoped>\n",
       "    .dataframe tbody tr th:only-of-type {\n",
       "        vertical-align: middle;\n",
       "    }\n",
       "\n",
       "    .dataframe tbody tr th {\n",
       "        vertical-align: top;\n",
       "    }\n",
       "\n",
       "    .dataframe thead th {\n",
       "        text-align: right;\n",
       "    }\n",
       "</style>\n",
       "<table border=\"1\" class=\"dataframe\">\n",
       "  <thead>\n",
       "    <tr style=\"text-align: right;\">\n",
       "      <th></th>\n",
       "      <th>sex_of_driver</th>\n",
       "      <th>age_band_of_driver</th>\n",
       "      <th>day_of_week</th>\n",
       "      <th>speed_limit</th>\n",
       "      <th>light_conditions</th>\n",
       "      <th>weather_conditions</th>\n",
       "      <th>road_surface_conditions</th>\n",
       "      <th>accident_severity</th>\n",
       "    </tr>\n",
       "  </thead>\n",
       "  <tbody>\n",
       "    <tr>\n",
       "      <th>0</th>\n",
       "      <td>1</td>\n",
       "      <td>7</td>\n",
       "      <td>2</td>\n",
       "      <td>30</td>\n",
       "      <td>1</td>\n",
       "      <td>1</td>\n",
       "      <td>1</td>\n",
       "      <td>3</td>\n",
       "    </tr>\n",
       "    <tr>\n",
       "      <th>1</th>\n",
       "      <td>2</td>\n",
       "      <td>5</td>\n",
       "      <td>7</td>\n",
       "      <td>40</td>\n",
       "      <td>1</td>\n",
       "      <td>1</td>\n",
       "      <td>1</td>\n",
       "      <td>3</td>\n",
       "    </tr>\n",
       "    <tr>\n",
       "      <th>2</th>\n",
       "      <td>1</td>\n",
       "      <td>8</td>\n",
       "      <td>7</td>\n",
       "      <td>40</td>\n",
       "      <td>1</td>\n",
       "      <td>1</td>\n",
       "      <td>1</td>\n",
       "      <td>3</td>\n",
       "    </tr>\n",
       "    <tr>\n",
       "      <th>4</th>\n",
       "      <td>1</td>\n",
       "      <td>6</td>\n",
       "      <td>6</td>\n",
       "      <td>30</td>\n",
       "      <td>1</td>\n",
       "      <td>1</td>\n",
       "      <td>1</td>\n",
       "      <td>3</td>\n",
       "    </tr>\n",
       "    <tr>\n",
       "      <th>7</th>\n",
       "      <td>1</td>\n",
       "      <td>6</td>\n",
       "      <td>5</td>\n",
       "      <td>40</td>\n",
       "      <td>7</td>\n",
       "      <td>1</td>\n",
       "      <td>1</td>\n",
       "      <td>3</td>\n",
       "    </tr>\n",
       "  </tbody>\n",
       "</table>\n",
       "</div>"
      ],
      "text/plain": [
       "   sex_of_driver  age_band_of_driver  day_of_week  speed_limit  \\\n",
       "0              1                   7            2           30   \n",
       "1              2                   5            7           40   \n",
       "2              1                   8            7           40   \n",
       "4              1                   6            6           30   \n",
       "7              1                   6            5           40   \n",
       "\n",
       "   light_conditions  weather_conditions  road_surface_conditions  \\\n",
       "0                 1                   1                        1   \n",
       "1                 1                   1                        1   \n",
       "2                 1                   1                        1   \n",
       "4                 1                   1                        1   \n",
       "7                 7                   1                        1   \n",
       "\n",
       "   accident_severity  \n",
       "0                  3  \n",
       "1                  3  \n",
       "2                  3  \n",
       "4                  3  \n",
       "7                  3  "
      ]
     },
     "execution_count": 3,
     "metadata": {},
     "output_type": "execute_result"
    }
   ],
   "source": [
    "df_clean2=df_clean1[['sex_of_driver','age_band_of_driver','day_of_week','speed_limit','light_conditions','weather_conditions','road_surface_conditions','accident_severity']\n",
    "                ]\n",
    "df_clean2.head()"
   ]
  },
  {
   "cell_type": "code",
   "execution_count": 4,
   "metadata": {},
   "outputs": [
    {
     "name": "stdout",
     "output_type": "stream",
     "text": [
      "14 13349 23350 0 2759 0 3340 390 0\n"
     ]
    }
   ],
   "source": [
    "print((df_clean2.sex_of_driver == -1).sum(),(df_clean2.sex_of_driver == 3).sum(),\n",
    "(df_clean2.age_band_of_driver == -1).sum(),(df_clean2.light_conditions == -1).sum(),(df_clean2.light_conditions == 7).sum(),(df_clean2.weather_conditions == -1).sum(),(df_clean2.weather_conditions == 9).sum(),(df_clean2.road_surface_conditions\t == -1).sum(),(df_clean2.accident_severity == -1).sum())"
   ]
  },
  {
   "cell_type": "code",
   "execution_count": 5,
   "metadata": {},
   "outputs": [
    {
     "data": {
      "text/plain": [
       "count    205852.000000\n",
       "mean          6.026500\n",
       "std           3.026483\n",
       "min          -1.000000\n",
       "25%           5.000000\n",
       "50%           6.000000\n",
       "75%           8.000000\n",
       "max          11.000000\n",
       "Name: age_band_of_driver, dtype: float64"
      ]
     },
     "execution_count": 5,
     "metadata": {},
     "output_type": "execute_result"
    }
   ],
   "source": [
    "#Find average of age band of driver\n",
    "df_clean2.age_band_of_driver.describe()"
   ]
  },
  {
   "cell_type": "code",
   "execution_count": 6,
   "metadata": {},
   "outputs": [
    {
     "name": "stderr",
     "output_type": "stream",
     "text": [
      "/Users/yuewang/anaconda3/lib/python3.7/site-packages/pandas/core/generic.py:5890: SettingWithCopyWarning: \n",
      "A value is trying to be set on a copy of a slice from a DataFrame\n",
      "\n",
      "See the caveats in the documentation: http://pandas.pydata.org/pandas-docs/stable/indexing.html#indexing-view-versus-copy\n",
      "  self._update_inplace(new_data)\n"
     ]
    },
    {
     "data": {
      "text/plain": [
       "0"
      ]
     },
     "execution_count": 6,
     "metadata": {},
     "output_type": "execute_result"
    }
   ],
   "source": [
    "#replace age band value of -1 with the average 6\n",
    "df_clean2['age_band_of_driver'].replace({-1:6},inplace=True)\n",
    "(df_clean2.age_band_of_driver == -1).sum()"
   ]
  },
  {
   "cell_type": "code",
   "execution_count": 7,
   "metadata": {},
   "outputs": [
    {
     "name": "stderr",
     "output_type": "stream",
     "text": [
      "/Users/yuewang/anaconda3/lib/python3.7/site-packages/pandas/core/frame.py:3697: SettingWithCopyWarning: \n",
      "A value is trying to be set on a copy of a slice from a DataFrame\n",
      "\n",
      "See the caveats in the documentation: http://pandas.pydata.org/pandas-docs/stable/indexing.html#indexing-view-versus-copy\n",
      "  errors=errors)\n"
     ]
    },
    {
     "name": "stdout",
     "output_type": "stream",
     "text": [
      "0 12578 0 0 0 0 0 0 0\n"
     ]
    }
   ],
   "source": [
    "#drop missing or out of range values:\n",
    "df_clean2.drop( df_clean2[ (df_clean2['sex_of_driver'] == -1)].index, inplace=True)\n",
    "df_clean2.drop( df_clean2[ (df_clean2['road_surface_conditions'] == -1)].index, inplace=True)\n",
    "df_clean2.drop( df_clean2[ (df_clean2['weather_conditions'] == 9)].index, inplace=True)\n",
    "df_clean2.drop( df_clean2[ (df_clean2['light_conditions'] == 7)].index, inplace=True)\n",
    "\n",
    "print((df_clean2.sex_of_driver == -1).sum(),\n",
    "      (df_clean2.sex_of_driver == 3).sum(),\n",
    "      (df_clean2.age_band_of_driver == -1).sum(),\n",
    "      (df_clean2.light_conditions == -1).sum(),\n",
    "      (df_clean2.light_conditions == 7).sum(),\n",
    "      (df_clean2.weather_conditions == -1).sum(),\n",
    "      (df_clean2.weather_conditions == 9).sum(),(df_clean2.road_surface_conditions\t == -1).sum(),\n",
    "      (df_clean2.accident_severity == -1).sum())"
   ]
  },
  {
   "cell_type": "code",
   "execution_count": 8,
   "metadata": {},
   "outputs": [
    {
     "name": "stdout",
     "output_type": "stream",
     "text": [
      "(199931, 8)\n"
     ]
    },
    {
     "data": {
      "text/html": [
       "<div>\n",
       "<style scoped>\n",
       "    .dataframe tbody tr th:only-of-type {\n",
       "        vertical-align: middle;\n",
       "    }\n",
       "\n",
       "    .dataframe tbody tr th {\n",
       "        vertical-align: top;\n",
       "    }\n",
       "\n",
       "    .dataframe thead th {\n",
       "        text-align: right;\n",
       "    }\n",
       "</style>\n",
       "<table border=\"1\" class=\"dataframe\">\n",
       "  <thead>\n",
       "    <tr style=\"text-align: right;\">\n",
       "      <th></th>\n",
       "      <th>sex_of_driver</th>\n",
       "      <th>age_band_of_driver</th>\n",
       "      <th>day_of_week</th>\n",
       "      <th>speed_limit</th>\n",
       "      <th>light_conditions</th>\n",
       "      <th>weather_conditions</th>\n",
       "      <th>road_surface_conditions</th>\n",
       "      <th>accident_severity</th>\n",
       "    </tr>\n",
       "  </thead>\n",
       "  <tbody>\n",
       "    <tr>\n",
       "      <th>0</th>\n",
       "      <td>1</td>\n",
       "      <td>7</td>\n",
       "      <td>2</td>\n",
       "      <td>30</td>\n",
       "      <td>1</td>\n",
       "      <td>1</td>\n",
       "      <td>1</td>\n",
       "      <td>3</td>\n",
       "    </tr>\n",
       "    <tr>\n",
       "      <th>1</th>\n",
       "      <td>2</td>\n",
       "      <td>5</td>\n",
       "      <td>7</td>\n",
       "      <td>40</td>\n",
       "      <td>1</td>\n",
       "      <td>1</td>\n",
       "      <td>1</td>\n",
       "      <td>3</td>\n",
       "    </tr>\n",
       "    <tr>\n",
       "      <th>2</th>\n",
       "      <td>1</td>\n",
       "      <td>8</td>\n",
       "      <td>7</td>\n",
       "      <td>40</td>\n",
       "      <td>1</td>\n",
       "      <td>1</td>\n",
       "      <td>1</td>\n",
       "      <td>3</td>\n",
       "    </tr>\n",
       "    <tr>\n",
       "      <th>4</th>\n",
       "      <td>1</td>\n",
       "      <td>6</td>\n",
       "      <td>6</td>\n",
       "      <td>30</td>\n",
       "      <td>1</td>\n",
       "      <td>1</td>\n",
       "      <td>1</td>\n",
       "      <td>3</td>\n",
       "    </tr>\n",
       "    <tr>\n",
       "      <th>8</th>\n",
       "      <td>1</td>\n",
       "      <td>5</td>\n",
       "      <td>5</td>\n",
       "      <td>30</td>\n",
       "      <td>1</td>\n",
       "      <td>1</td>\n",
       "      <td>1</td>\n",
       "      <td>3</td>\n",
       "    </tr>\n",
       "  </tbody>\n",
       "</table>\n",
       "</div>"
      ],
      "text/plain": [
       "   sex_of_driver  age_band_of_driver  day_of_week  speed_limit  \\\n",
       "0              1                   7            2           30   \n",
       "1              2                   5            7           40   \n",
       "2              1                   8            7           40   \n",
       "4              1                   6            6           30   \n",
       "8              1                   5            5           30   \n",
       "\n",
       "   light_conditions  weather_conditions  road_surface_conditions  \\\n",
       "0                 1                   1                        1   \n",
       "1                 1                   1                        1   \n",
       "2                 1                   1                        1   \n",
       "4                 1                   1                        1   \n",
       "8                 1                   1                        1   \n",
       "\n",
       "   accident_severity  \n",
       "0                  3  \n",
       "1                  3  \n",
       "2                  3  \n",
       "4                  3  \n",
       "8                  3  "
      ]
     },
     "execution_count": 8,
     "metadata": {},
     "output_type": "execute_result"
    }
   ],
   "source": [
    "#Final Dataframe df_ca\n",
    "df_ca=df_clean2\n",
    "print(df_ca.shape)\n",
    "df_ca.head()"
   ]
  },
  {
   "cell_type": "markdown",
   "metadata": {},
   "source": [
    "\n",
    "\n",
    "\n",
    "## Data Analysis <a name=\"data_analysis\"></a>"
   ]
  },
  {
   "cell_type": "markdown",
   "metadata": {},
   "source": [
    "### Relationship between accident severity and age band of driver"
   ]
  },
  {
   "cell_type": "code",
   "execution_count": 9,
   "metadata": {},
   "outputs": [
    {
     "name": "stdout",
     "output_type": "stream",
     "text": [
      "3       1\n",
      "4     212\n",
      "5     344\n",
      "6     517\n",
      "7     314\n",
      "8     300\n",
      "9     250\n",
      "10    168\n",
      "11    189\n",
      "Name: age_band_of_driver, dtype: int64 1        1\n",
      "3        4\n",
      "4     2019\n",
      "5     2900\n",
      "6     6887\n",
      "7     3725\n",
      "8     3495\n",
      "9     2314\n",
      "10    1614\n",
      "11    1363\n",
      "Name: age_band_of_driver, dtype: int64 3        29\n",
      "4     12540\n",
      "5     20673\n",
      "6     56548\n",
      "7     29959\n",
      "8     25250\n",
      "9     14247\n",
      "10     8639\n",
      "11     5429\n",
      "Name: age_band_of_driver, dtype: int64\n"
     ]
    }
   ],
   "source": [
    "import matplotlib.pyplot as plt\n",
    "\n",
    "#For accident severity = 1\n",
    "df_age1=df_ca.loc[(df_ca['accident_severity']== 1)]\n",
    "severity_1=df_age1['age_band_of_driver'].value_counts().sort_index()\n",
    "array1=severity_1.values\n",
    "\n",
    "#For accident severity = 2\n",
    "df_age2=df_ca.loc[(df_ca['accident_severity']== 2)]\n",
    "severity_2=df_age2['age_band_of_driver'].value_counts().sort_index()\n",
    "array2=severity_2.values\n",
    "\n",
    "#For accident severity = 3\n",
    "df_age3=df_ca.loc[(df_ca['accident_severity']== 3)]\n",
    "severity_3=df_age3['age_band_of_driver'].value_counts().sort_index()\n",
    "array3=severity_3.values\n",
    "\n",
    "print(severity_1,severity_2,severity_3)"
   ]
  },
  {
   "cell_type": "code",
   "execution_count": 10,
   "metadata": {},
   "outputs": [
    {
     "data": {
      "text/plain": [
       "<Figure size 432x288 with 0 Axes>"
      ]
     },
     "metadata": {},
     "output_type": "display_data"
    },
    {
     "data": {
      "image/png": "[encoded data removed]",
      "text/plain": [
       "<Figure size 360x360 with 1 Axes>"
      ]
     },
     "metadata": {},
     "output_type": "display_data"
    },
    {
     "data": {
      "image/png": "[encoded data removed]",
      "text/plain": [
       "<Figure size 360x360 with 1 Axes>"
      ]
     },
     "metadata": {},
     "output_type": "display_data"
    },
    {
     "data": {
      "image/png": "[encoded data removed]",
      "text/plain": [
       "<Figure size 360x360 with 1 Axes>"
      ]
     },
     "metadata": {},
     "output_type": "display_data"
    }
   ],
   "source": [
    "#Plot pie charts for each severity level\n",
    "\n",
    "plt.figure(0)\n",
    "df_age_1 = pd.DataFrame({'Fatal': array1},\n",
    "                  index=['11 to 15','16 to 20','21 to 25','26 to 35','36 to 45','46 to 55','56 to 65','66 to 75','above 75'])\n",
    "plot = df_age_1.plot.pie(y='Fatal', autopct='%1.1f%%',figsize=(5, 5))\n",
    "\n",
    "plt.figure(1)\n",
    "df_age_2 = pd.DataFrame({'Serious': array2},\n",
    "                  index=['0 to 5','11 to 15','16 to 20','21 to 25','26 to 35','36 to 45','46 to 55','56 to 65','66 to 75','above 75'])\n",
    "plot = df_age_2.plot.pie(y='Serious',autopct='%1.1f%%', figsize=(5, 5))\n",
    "\n",
    "plt.figure(2)\n",
    "df_age_3 = pd.DataFrame({'Slight': array3},\n",
    "                  index=['11 to 15','16 to 20','21 to 25','26 to 35','36 to 45','46 to 55','56 to 65','66 to 75','above 75'])\n",
    "plot = df_age_3.plot.pie(y='Slight',autopct='%1.1f%%', figsize=(5, 5))\n",
    "\n",
    "plt.show()"
   ]
  },
  {
   "cell_type": "markdown",
   "metadata": {},
   "source": [
    "### Relationship between accident severity and day of the week"
   ]
  },
  {
   "cell_type": "code",
   "execution_count": 11,
   "metadata": {},
   "outputs": [
    {
     "data": {
      "image/png": "[encoded data removed]",
      "text/plain": [
       "<Figure size 648x216 with 3 Axes>"
      ]
     },
     "metadata": {
      "needs_background": "light"
     },
     "output_type": "display_data"
    }
   ],
   "source": [
    "import seaborn as sns\n",
    "import numpy as np\n",
    "bins = np.linspace(df_ca.day_of_week.min(), df_ca.day_of_week.max(), 10)\n",
    "g = sns.FacetGrid(df_ca, col=\"accident_severity\", palette=\"Set1\", col_wrap=3)\n",
    "g.map(plt.hist, 'day_of_week', bins=bins, ec=\"k\")\n",
    "\n",
    "plt.show()"
   ]
  },
  {
   "cell_type": "markdown",
   "metadata": {},
   "source": [
    "### Relationship between accident severity and sex of driver"
   ]
  },
  {
   "cell_type": "code",
   "execution_count": 12,
   "metadata": {},
   "outputs": [
    {
     "name": "stdout",
     "output_type": "stream",
     "text": [
      "accident_severity     1      2      3\n",
      "sex_of_driver                        \n",
      "1                  1647  15142  98370\n",
      "2                   577   7646  63971\n",
      "3                    71   1534  10973\n"
     ]
    }
   ],
   "source": [
    "#Exact column sex_of_driver and accident_severity and transfrom\n",
    "df_sex = df_ca.loc[:,['sex_of_driver','accident_severity']]\n",
    "\n",
    "print(pd.crosstab(df_sex.sex_of_driver, df_sex.accident_severity))"
   ]
  },
  {
   "cell_type": "code",
   "execution_count": 13,
   "metadata": {},
   "outputs": [
    {
     "data": {
      "image/png": "[encoded data removed]",
      "text/plain": [
       "<Figure size 432x288 with 1 Axes>"
      ]
     },
     "metadata": {
      "needs_background": "light"
     },
     "output_type": "display_data"
    }
   ],
   "source": [
    "#Plot bar chart\n",
    "N = 3\n",
    "Male= (1647,15142,98370)\n",
    "Female = (577,7646,63971)\n",
    "Unknown = (271,1534,10973)\n",
    "\n",
    "ind = np.arange(N) \n",
    "width = 0.35       \n",
    "plt.bar(ind, Male, width, label='Male')\n",
    "plt.bar(ind + width, Female, width,label='Female')\n",
    "plt.bar(ind + width, Unknown, width, label='Unknown')\n",
    "\n",
    "plt.xlabel('accident severity')\n",
    "plt.ylabel('Accident count')\n",
    "plt.title('Relationship of Accident Severity with Gender of Driver')\n",
    "\n",
    "plt.xticks(ind + width, ('Fatal', 'Serious', 'Slight'))\n",
    "plt.legend(loc='best')\n",
    "plt.show()"
   ]
  },
  {
   "cell_type": "markdown",
   "metadata": {},
   "source": [
    "### Relationship between accident severity and speed limit"
   ]
  },
  {
   "cell_type": "code",
   "execution_count": 14,
   "metadata": {},
   "outputs": [
    {
     "data": {
      "text/html": [
       "<div>\n",
       "<style scoped>\n",
       "    .dataframe tbody tr th:only-of-type {\n",
       "        vertical-align: middle;\n",
       "    }\n",
       "\n",
       "    .dataframe tbody tr th {\n",
       "        vertical-align: top;\n",
       "    }\n",
       "\n",
       "    .dataframe thead th {\n",
       "        text-align: right;\n",
       "    }\n",
       "</style>\n",
       "<table border=\"1\" class=\"dataframe\">\n",
       "  <thead>\n",
       "    <tr style=\"text-align: right;\">\n",
       "      <th></th>\n",
       "      <th>speed_limit</th>\n",
       "      <th>accident_severity</th>\n",
       "      <th>count</th>\n",
       "    </tr>\n",
       "  </thead>\n",
       "  <tbody>\n",
       "    <tr>\n",
       "      <th>0</th>\n",
       "      <td>10</td>\n",
       "      <td>3</td>\n",
       "      <td>1</td>\n",
       "    </tr>\n",
       "    <tr>\n",
       "      <th>1</th>\n",
       "      <td>20</td>\n",
       "      <td>1</td>\n",
       "      <td>11</td>\n",
       "    </tr>\n",
       "    <tr>\n",
       "      <th>2</th>\n",
       "      <td>20</td>\n",
       "      <td>2</td>\n",
       "      <td>567</td>\n",
       "    </tr>\n",
       "    <tr>\n",
       "      <th>3</th>\n",
       "      <td>20</td>\n",
       "      <td>3</td>\n",
       "      <td>4201</td>\n",
       "    </tr>\n",
       "    <tr>\n",
       "      <th>4</th>\n",
       "      <td>30</td>\n",
       "      <td>1</td>\n",
       "      <td>559</td>\n",
       "    </tr>\n",
       "  </tbody>\n",
       "</table>\n",
       "</div>"
      ],
      "text/plain": [
       "   speed_limit  accident_severity  count\n",
       "0           10                  3      1\n",
       "1           20                  1     11\n",
       "2           20                  2    567\n",
       "3           20                  3   4201\n",
       "4           30                  1    559"
      ]
     },
     "execution_count": 14,
     "metadata": {},
     "output_type": "execute_result"
    }
   ],
   "source": [
    "#Get count grouped by speed_limit and accident_severity\n",
    "df_speed=df_ca.groupby(['speed_limit','accident_severity']).size().reset_index()\n",
    "df_speed.rename({0: 'count'}, axis=1, inplace=True)\n",
    "df_speed.head()"
   ]
  },
  {
   "cell_type": "code",
   "execution_count": 15,
   "metadata": {},
   "outputs": [
    {
     "data": {
      "text/html": [
       "<div>\n",
       "<style scoped>\n",
       "    .dataframe tbody tr th:only-of-type {\n",
       "        vertical-align: middle;\n",
       "    }\n",
       "\n",
       "    .dataframe tbody tr th {\n",
       "        vertical-align: top;\n",
       "    }\n",
       "\n",
       "    .dataframe thead th {\n",
       "        text-align: right;\n",
       "    }\n",
       "</style>\n",
       "<table border=\"1\" class=\"dataframe\">\n",
       "  <thead>\n",
       "    <tr style=\"text-align: right;\">\n",
       "      <th>accident_severity</th>\n",
       "      <th>Fatal</th>\n",
       "      <th>Serious</th>\n",
       "      <th>Slight</th>\n",
       "    </tr>\n",
       "    <tr>\n",
       "      <th>speed_limit</th>\n",
       "      <th></th>\n",
       "      <th></th>\n",
       "      <th></th>\n",
       "    </tr>\n",
       "  </thead>\n",
       "  <tbody>\n",
       "    <tr>\n",
       "      <th>10</th>\n",
       "      <td>NaN</td>\n",
       "      <td>NaN</td>\n",
       "      <td>1.0</td>\n",
       "    </tr>\n",
       "    <tr>\n",
       "      <th>20</th>\n",
       "      <td>11.0</td>\n",
       "      <td>567.0</td>\n",
       "      <td>4201.0</td>\n",
       "    </tr>\n",
       "    <tr>\n",
       "      <th>30</th>\n",
       "      <td>559.0</td>\n",
       "      <td>12180.0</td>\n",
       "      <td>105484.0</td>\n",
       "    </tr>\n",
       "    <tr>\n",
       "      <th>40</th>\n",
       "      <td>262.0</td>\n",
       "      <td>2319.0</td>\n",
       "      <td>16547.0</td>\n",
       "    </tr>\n",
       "    <tr>\n",
       "      <th>50</th>\n",
       "      <td>169.0</td>\n",
       "      <td>1262.0</td>\n",
       "      <td>8313.0</td>\n",
       "    </tr>\n",
       "  </tbody>\n",
       "</table>\n",
       "</div>"
      ],
      "text/plain": [
       "accident_severity  Fatal  Serious    Slight\n",
       "speed_limit                                \n",
       "10                   NaN      NaN       1.0\n",
       "20                  11.0    567.0    4201.0\n",
       "30                 559.0  12180.0  105484.0\n",
       "40                 262.0   2319.0   16547.0\n",
       "50                 169.0   1262.0    8313.0"
      ]
     },
     "execution_count": 15,
     "metadata": {},
     "output_type": "execute_result"
    }
   ],
   "source": [
    "#Reshape the table with pivot\n",
    "pivot_df = df_speed.pivot(index='speed_limit', columns='accident_severity', values='count')\n",
    "pivot_df.rename({1: 'Fatal',2:'Serious', 3:'Slight'}, axis=1, inplace=True)\n",
    "pivot_df.head()"
   ]
  },
  {
   "cell_type": "code",
   "execution_count": 16,
   "metadata": {},
   "outputs": [
    {
     "data": {
      "text/plain": [
       "Text(0.5,1,'Relationship between accident severity and speed limit')"
      ]
     },
     "execution_count": 16,
     "metadata": {},
     "output_type": "execute_result"
    },
    {
     "data": {
      "image/png": "[encoded data removed]",
      "text/plain": [
       "<Figure size 720x504 with 1 Axes>"
      ]
     },
     "metadata": {
      "needs_background": "light"
     },
     "output_type": "display_data"
    }
   ],
   "source": [
    "#Plot bar chart\n",
    "pivot_df.plot.bar(stacked=True,color=['g','r','b'],figsize=(10,7))\n",
    "\n",
    "plt.xlabel('speed limit(km/h)')\n",
    "plt.ylabel('accident count')\n",
    "plt.title('Relationship between accident severity and speed limit')"
   ]
  },
  {
   "cell_type": "markdown",
   "metadata": {},
   "source": [
    "### Relationship between accident severity and light condition"
   ]
  },
  {
   "cell_type": "code",
   "execution_count": 17,
   "metadata": {},
   "outputs": [
    {
     "data": {
      "text/html": [
       "<div>\n",
       "<style scoped>\n",
       "    .dataframe tbody tr th:only-of-type {\n",
       "        vertical-align: middle;\n",
       "    }\n",
       "\n",
       "    .dataframe tbody tr th {\n",
       "        vertical-align: top;\n",
       "    }\n",
       "\n",
       "    .dataframe thead th {\n",
       "        text-align: right;\n",
       "    }\n",
       "</style>\n",
       "<table border=\"1\" class=\"dataframe\">\n",
       "  <thead>\n",
       "    <tr style=\"text-align: right;\">\n",
       "      <th></th>\n",
       "      <th>light_conditions</th>\n",
       "      <th>accident_severity</th>\n",
       "      <th>count</th>\n",
       "      <th>count/10</th>\n",
       "    </tr>\n",
       "  </thead>\n",
       "  <tbody>\n",
       "    <tr>\n",
       "      <th>0</th>\n",
       "      <td>1</td>\n",
       "      <td>1</td>\n",
       "      <td>1357</td>\n",
       "      <td>135.7</td>\n",
       "    </tr>\n",
       "    <tr>\n",
       "      <th>1</th>\n",
       "      <td>1</td>\n",
       "      <td>2</td>\n",
       "      <td>16542</td>\n",
       "      <td>1654.2</td>\n",
       "    </tr>\n",
       "    <tr>\n",
       "      <th>2</th>\n",
       "      <td>1</td>\n",
       "      <td>3</td>\n",
       "      <td>128954</td>\n",
       "      <td>12895.4</td>\n",
       "    </tr>\n",
       "    <tr>\n",
       "      <th>3</th>\n",
       "      <td>4</td>\n",
       "      <td>1</td>\n",
       "      <td>379</td>\n",
       "      <td>37.9</td>\n",
       "    </tr>\n",
       "    <tr>\n",
       "      <th>4</th>\n",
       "      <td>4</td>\n",
       "      <td>2</td>\n",
       "      <td>5140</td>\n",
       "      <td>514.0</td>\n",
       "    </tr>\n",
       "  </tbody>\n",
       "</table>\n",
       "</div>"
      ],
      "text/plain": [
       "   light_conditions  accident_severity   count  count/10\n",
       "0                 1                  1    1357     135.7\n",
       "1                 1                  2   16542    1654.2\n",
       "2                 1                  3  128954   12895.4\n",
       "3                 4                  1     379      37.9\n",
       "4                 4                  2    5140     514.0"
      ]
     },
     "execution_count": 17,
     "metadata": {},
     "output_type": "execute_result"
    }
   ],
   "source": [
    "#Get count grouped by light_condition and accident_severity\n",
    "df_light=df_ca.groupby(['light_conditions','accident_severity']).size().reset_index()\n",
    "df_light.rename({0: 'count'}, axis=1, inplace=True)\n",
    "df_light['count/10']=df_light['count']/10\n",
    "df_light.head()"
   ]
  },
  {
   "cell_type": "code",
   "execution_count": 18,
   "metadata": {},
   "outputs": [
    {
     "data": {
      "text/plain": [
       "Text(0.5,1,'Relationship between accident severity and light conditions')"
      ]
     },
     "execution_count": 18,
     "metadata": {},
     "output_type": "execute_result"
    },
    {
     "data": {
      "image/png": "[encoded data removed]",
      "text/plain": [
       "<Figure size 432x288 with 1 Axes>"
      ]
     },
     "metadata": {
      "needs_background": "light"
     },
     "output_type": "display_data"
    }
   ],
   "source": [
    "#Plot bubble chart\n",
    "plt.scatter('light_conditions', 'accident_severity', \n",
    "             s='count/10',\n",
    "             alpha=0.5,\n",
    "             data=df_light)\n",
    "plt.xlabel(\"light_conditions\", size=10)\n",
    "plt.ylabel(\"accident_severity\", size=10)\n",
    "plt.xticks([1,2,3,4,5,6],['Daylight','na','na','Darkness – lights lit','Darkness – lights unlit','Darkness – lighting'],rotation=30)\n",
    "plt.title(\"Relationship between accident severity and light conditions\", size=12)"
   ]
  },
  {
   "cell_type": "markdown",
   "metadata": {},
   "source": [
    "### Relationship between accident severity and weather condition"
   ]
  },
  {
   "cell_type": "code",
   "execution_count": 19,
   "metadata": {},
   "outputs": [
    {
     "data": {
      "text/html": [
       "<div>\n",
       "<style scoped>\n",
       "    .dataframe tbody tr th:only-of-type {\n",
       "        vertical-align: middle;\n",
       "    }\n",
       "\n",
       "    .dataframe tbody tr th {\n",
       "        vertical-align: top;\n",
       "    }\n",
       "\n",
       "    .dataframe thead th {\n",
       "        text-align: right;\n",
       "    }\n",
       "</style>\n",
       "<table border=\"1\" class=\"dataframe\">\n",
       "  <thead>\n",
       "    <tr style=\"text-align: right;\">\n",
       "      <th></th>\n",
       "      <th>weather_conditions</th>\n",
       "      <th>accident_severity</th>\n",
       "      <th>count</th>\n",
       "      <th>count/10</th>\n",
       "    </tr>\n",
       "  </thead>\n",
       "  <tbody>\n",
       "    <tr>\n",
       "      <th>0</th>\n",
       "      <td>1</td>\n",
       "      <td>1</td>\n",
       "      <td>1871</td>\n",
       "      <td>187.1</td>\n",
       "    </tr>\n",
       "    <tr>\n",
       "      <th>1</th>\n",
       "      <td>1</td>\n",
       "      <td>2</td>\n",
       "      <td>19920</td>\n",
       "      <td>1992.0</td>\n",
       "    </tr>\n",
       "    <tr>\n",
       "      <th>2</th>\n",
       "      <td>1</td>\n",
       "      <td>3</td>\n",
       "      <td>142558</td>\n",
       "      <td>14255.8</td>\n",
       "    </tr>\n",
       "    <tr>\n",
       "      <th>3</th>\n",
       "      <td>2</td>\n",
       "      <td>1</td>\n",
       "      <td>244</td>\n",
       "      <td>24.4</td>\n",
       "    </tr>\n",
       "    <tr>\n",
       "      <th>4</th>\n",
       "      <td>2</td>\n",
       "      <td>2</td>\n",
       "      <td>2817</td>\n",
       "      <td>281.7</td>\n",
       "    </tr>\n",
       "  </tbody>\n",
       "</table>\n",
       "</div>"
      ],
      "text/plain": [
       "   weather_conditions  accident_severity   count  count/10\n",
       "0                   1                  1    1871     187.1\n",
       "1                   1                  2   19920    1992.0\n",
       "2                   1                  3  142558   14255.8\n",
       "3                   2                  1     244      24.4\n",
       "4                   2                  2    2817     281.7"
      ]
     },
     "execution_count": 19,
     "metadata": {},
     "output_type": "execute_result"
    }
   ],
   "source": [
    "#Get count grouped by weather condition and accident severity\n",
    "df_weather=df_ca.groupby(['weather_conditions','accident_severity']).size().reset_index()\n",
    "df_weather.rename({0: 'count'}, axis=1, inplace=True)\n",
    "df_weather['count/10']=df_weather['count']/10\n",
    "df_weather.head()"
   ]
  },
  {
   "cell_type": "code",
   "execution_count": 20,
   "metadata": {},
   "outputs": [
    {
     "data": {
      "text/plain": [
       "Text(0.5,1,'Relationship between accident severity and weather conditions')"
      ]
     },
     "execution_count": 20,
     "metadata": {},
     "output_type": "execute_result"
    },
    {
     "data": {
      "image/png": "[encoded data removed]",
      "text/plain": [
       "<Figure size 432x288 with 1 Axes>"
      ]
     },
     "metadata": {
      "needs_background": "light"
     },
     "output_type": "display_data"
    }
   ],
   "source": [
    "#Plot bubble chart\n",
    "plt.scatter('weather_conditions', 'accident_severity', \n",
    "             s='count/10',color='g',\n",
    "             alpha=0.5,\n",
    "             data=df_weather)\n",
    "plt.xlabel(\"weather_conditions\", size=10)\n",
    "plt.ylabel(\"accident_severity\", size=10)\n",
    "plt.xticks([1,2,3,4,5,6,7,8],['Fine no high winds','Raining no high winds','Snowing no high winds','Fine + high winds','Raining + high winds','Snowing + high winds','Fog or mist','Others'],rotation=30)\n",
    "plt.title(\"Relationship between accident severity and weather conditions\", size=12)"
   ]
  },
  {
   "cell_type": "markdown",
   "metadata": {},
   "source": [
    "### Relationship between accident severity and road surface condition"
   ]
  },
  {
   "cell_type": "code",
   "execution_count": 21,
   "metadata": {},
   "outputs": [
    {
     "data": {
      "text/html": [
       "<div>\n",
       "<style scoped>\n",
       "    .dataframe tbody tr th:only-of-type {\n",
       "        vertical-align: middle;\n",
       "    }\n",
       "\n",
       "    .dataframe tbody tr th {\n",
       "        vertical-align: top;\n",
       "    }\n",
       "\n",
       "    .dataframe thead th {\n",
       "        text-align: right;\n",
       "    }\n",
       "</style>\n",
       "<table border=\"1\" class=\"dataframe\">\n",
       "  <thead>\n",
       "    <tr style=\"text-align: right;\">\n",
       "      <th></th>\n",
       "      <th>road_surface_conditions</th>\n",
       "      <th>accident_severity</th>\n",
       "      <th>count</th>\n",
       "      <th>count/10</th>\n",
       "    </tr>\n",
       "  </thead>\n",
       "  <tbody>\n",
       "    <tr>\n",
       "      <th>0</th>\n",
       "      <td>1</td>\n",
       "      <td>1</td>\n",
       "      <td>1478</td>\n",
       "      <td>147.8</td>\n",
       "    </tr>\n",
       "    <tr>\n",
       "      <th>1</th>\n",
       "      <td>1</td>\n",
       "      <td>2</td>\n",
       "      <td>16762</td>\n",
       "      <td>1676.2</td>\n",
       "    </tr>\n",
       "    <tr>\n",
       "      <th>2</th>\n",
       "      <td>1</td>\n",
       "      <td>3</td>\n",
       "      <td>124263</td>\n",
       "      <td>12426.3</td>\n",
       "    </tr>\n",
       "    <tr>\n",
       "      <th>3</th>\n",
       "      <td>2</td>\n",
       "      <td>1</td>\n",
       "      <td>782</td>\n",
       "      <td>78.2</td>\n",
       "    </tr>\n",
       "    <tr>\n",
       "      <th>4</th>\n",
       "      <td>2</td>\n",
       "      <td>2</td>\n",
       "      <td>7140</td>\n",
       "      <td>714.0</td>\n",
       "    </tr>\n",
       "  </tbody>\n",
       "</table>\n",
       "</div>"
      ],
      "text/plain": [
       "   road_surface_conditions  accident_severity   count  count/10\n",
       "0                        1                  1    1478     147.8\n",
       "1                        1                  2   16762    1676.2\n",
       "2                        1                  3  124263   12426.3\n",
       "3                        2                  1     782      78.2\n",
       "4                        2                  2    7140     714.0"
      ]
     },
     "execution_count": 21,
     "metadata": {},
     "output_type": "execute_result"
    }
   ],
   "source": [
    "#Get count groupbed by road_surface_condition and accident_severity\n",
    "df_road=df_ca.groupby(['road_surface_conditions','accident_severity']).size().reset_index()\n",
    "df_road.rename({0: 'count'}, axis=1, inplace=True)\n",
    "df_road['count/10']=df_road['count']/10\n",
    "df_road.head()"
   ]
  },
  {
   "cell_type": "code",
   "execution_count": 22,
   "metadata": {},
   "outputs": [
    {
     "data": {
      "text/plain": [
       "Text(0.5,1,'Relationship between accident severity and road surface conditions')"
      ]
     },
     "execution_count": 22,
     "metadata": {},
     "output_type": "execute_result"
    },
    {
     "data": {
      "image/png": "[encoded data removed]",
      "text/plain": [
       "<Figure size 432x288 with 1 Axes>"
      ]
     },
     "metadata": {
      "needs_background": "light"
     },
     "output_type": "display_data"
    }
   ],
   "source": [
    "#Plot bubble chart\n",
    "plt.scatter('road_surface_conditions', 'accident_severity', \n",
    "             s='count/10',color='y',\n",
    "             alpha=0.5,\n",
    "             data=df_road)\n",
    "plt.xlabel(\"road_surface_conditions\", size=10)\n",
    "plt.ylabel(\"accident_severity\", size=10)\n",
    "plt.xticks([1,2,3,4,5,6,7],['dry','wet or damp','Snow','frost or ice','Flood over 3cm. deep','Oil or diesel','mud'],rotation=30)\n",
    "plt.title(\"Relationship between accident severity and road surface conditions\", size=12)"
   ]
  },
  {
   "cell_type": "markdown",
   "metadata": {},
   "source": [
    "\n",
    "## Modeling <a name=\"modeling\"></a>"
   ]
  },
  {
   "cell_type": "code",
   "execution_count": 23,
   "metadata": {},
   "outputs": [
    {
     "data": {
      "text/html": [
       "<div>\n",
       "<style scoped>\n",
       "    .dataframe tbody tr th:only-of-type {\n",
       "        vertical-align: middle;\n",
       "    }\n",
       "\n",
       "    .dataframe tbody tr th {\n",
       "        vertical-align: top;\n",
       "    }\n",
       "\n",
       "    .dataframe thead th {\n",
       "        text-align: right;\n",
       "    }\n",
       "</style>\n",
       "<table border=\"1\" class=\"dataframe\">\n",
       "  <thead>\n",
       "    <tr style=\"text-align: right;\">\n",
       "      <th></th>\n",
       "      <th>sex_of_driver</th>\n",
       "      <th>age_band_of_driver</th>\n",
       "      <th>day_of_week</th>\n",
       "      <th>speed_limit</th>\n",
       "      <th>light_conditions</th>\n",
       "      <th>weather_conditions</th>\n",
       "      <th>road_surface_conditions</th>\n",
       "    </tr>\n",
       "  </thead>\n",
       "  <tbody>\n",
       "    <tr>\n",
       "      <th>0</th>\n",
       "      <td>1</td>\n",
       "      <td>7</td>\n",
       "      <td>2</td>\n",
       "      <td>30</td>\n",
       "      <td>1</td>\n",
       "      <td>1</td>\n",
       "      <td>1</td>\n",
       "    </tr>\n",
       "    <tr>\n",
       "      <th>1</th>\n",
       "      <td>2</td>\n",
       "      <td>5</td>\n",
       "      <td>7</td>\n",
       "      <td>40</td>\n",
       "      <td>1</td>\n",
       "      <td>1</td>\n",
       "      <td>1</td>\n",
       "    </tr>\n",
       "    <tr>\n",
       "      <th>2</th>\n",
       "      <td>1</td>\n",
       "      <td>8</td>\n",
       "      <td>7</td>\n",
       "      <td>40</td>\n",
       "      <td>1</td>\n",
       "      <td>1</td>\n",
       "      <td>1</td>\n",
       "    </tr>\n",
       "    <tr>\n",
       "      <th>4</th>\n",
       "      <td>1</td>\n",
       "      <td>6</td>\n",
       "      <td>6</td>\n",
       "      <td>30</td>\n",
       "      <td>1</td>\n",
       "      <td>1</td>\n",
       "      <td>1</td>\n",
       "    </tr>\n",
       "    <tr>\n",
       "      <th>8</th>\n",
       "      <td>1</td>\n",
       "      <td>5</td>\n",
       "      <td>5</td>\n",
       "      <td>30</td>\n",
       "      <td>1</td>\n",
       "      <td>1</td>\n",
       "      <td>1</td>\n",
       "    </tr>\n",
       "  </tbody>\n",
       "</table>\n",
       "</div>"
      ],
      "text/plain": [
       "   sex_of_driver  age_band_of_driver  day_of_week  speed_limit  \\\n",
       "0              1                   7            2           30   \n",
       "1              2                   5            7           40   \n",
       "2              1                   8            7           40   \n",
       "4              1                   6            6           30   \n",
       "8              1                   5            5           30   \n",
       "\n",
       "   light_conditions  weather_conditions  road_surface_conditions  \n",
       "0                 1                   1                        1  \n",
       "1                 1                   1                        1  \n",
       "2                 1                   1                        1  \n",
       "4                 1                   1                        1  \n",
       "8                 1                   1                        1  "
      ]
     },
     "execution_count": 23,
     "metadata": {},
     "output_type": "execute_result"
    }
   ],
   "source": [
    "#Define feature sets x\n",
    "from sklearn import preprocessing\n",
    "Feature=df_ca[['sex_of_driver','age_band_of_driver','day_of_week','speed_limit','light_conditions','weather_conditions','road_surface_conditions']]\n",
    "X=Feature\n",
    "X[0:5]"
   ]
  },
  {
   "cell_type": "code",
   "execution_count": 24,
   "metadata": {},
   "outputs": [
    {
     "data": {
      "text/plain": [
       "array([3, 3, 3, 3, 3])"
      ]
     },
     "execution_count": 24,
     "metadata": {},
     "output_type": "execute_result"
    }
   ],
   "source": [
    "#Define feature sets Y\n",
    "y = df_ca['accident_severity'].values\n",
    "y[0:5]"
   ]
  },
  {
   "cell_type": "code",
   "execution_count": 25,
   "metadata": {},
   "outputs": [
    {
     "data": {
      "text/plain": [
       "array([[-0.79444312,  0.10020677, -1.07699365, -0.66897396, -0.57895809,\n",
       "        -0.33396838, -0.57500373],\n",
       "       [ 0.83713169, -1.06502662,  1.48839572,  0.01273531, -0.57895809,\n",
       "        -0.33396838, -0.57500373],\n",
       "       [-0.79444312,  0.68282347,  1.48839572,  0.01273531, -0.57895809,\n",
       "        -0.33396838, -0.57500373],\n",
       "       [-0.79444312, -0.48240992,  0.97531785, -0.66897396, -0.57895809,\n",
       "        -0.33396838, -0.57500373],\n",
       "       [-0.79444312, -1.06502662,  0.46223997, -0.66897396, -0.57895809,\n",
       "        -0.33396838, -0.57500373]])"
      ]
     },
     "execution_count": 25,
     "metadata": {},
     "output_type": "execute_result"
    }
   ],
   "source": [
    "#Normalise data\n",
    "X= preprocessing.StandardScaler().fit(X).transform(X)\n",
    "X[0:5]"
   ]
  },
  {
   "cell_type": "markdown",
   "metadata": {},
   "source": [
    "## Classification Model\n",
    "\n",
    "Due to the predicting value ‘accident severity’ being grouped in 3 classes – Fatal, Serious and slight, I used classification model in this project, train and test the datasets in the following models:\n",
    "    \n",
    "    -K Nearest Neighbor(KNN)\n",
    "    -Decision Tree\n",
    "    -Support Vector Machine\n",
    "    -Logistic Regression"
   ]
  },
  {
   "cell_type": "code",
   "execution_count": 26,
   "metadata": {},
   "outputs": [
    {
     "name": "stdout",
     "output_type": "stream",
     "text": [
      "Train set: (159944, 7) (159944,)\n",
      "Test set: (39987, 7) (39987,)\n"
     ]
    }
   ],
   "source": [
    "#Split the datasets to Train and Test data with 4:1 ratio\n",
    "from sklearn.model_selection import train_test_split\n",
    "X_train, X_test, y_train, y_test = train_test_split( X, y, test_size=0.2, random_state=4)\n",
    "print ('Train set:', X_train.shape,  y_train.shape)\n",
    "print ('Test set:', X_test.shape,  y_test.shape)"
   ]
  },
  {
   "cell_type": "markdown",
   "metadata": {},
   "source": [
    "K Nearest Neighbor(KNN)"
   ]
  },
  {
   "cell_type": "code",
   "execution_count": 27,
   "metadata": {},
   "outputs": [
    {
     "data": {
      "text/plain": [
       "array([0.79308275, 0.71125616, 0.83469628, 0.81131368, 0.85425263,\n",
       "       0.8458499 , 0.85832896, 0.85697852])"
      ]
     },
     "execution_count": 27,
     "metadata": {},
     "output_type": "execute_result"
    }
   ],
   "source": [
    "from sklearn.neighbors import KNeighborsClassifier\n",
    "from sklearn import metrics\n",
    "Ks = 9\n",
    "mean_acc_1 = np.zeros((Ks-1))\n",
    "std_acc = np.zeros((Ks-1))\n",
    "ConfustionMx = [];\n",
    "for n in range(1,Ks):\n",
    "    \n",
    "    #Train Model and Predict  \n",
    "    neigh = KNeighborsClassifier(n_neighbors = n).fit(X_train,y_train)\n",
    "    yhat=neigh.predict(X_test)\n",
    "    mean_acc_1[n-1] = metrics.accuracy_score(y_test, yhat)\n",
    "\n",
    "    \n",
    "    std_acc[n-1]=np.std(yhat==y_test)/np.sqrt(yhat.shape[0])\n",
    "\n",
    "mean_acc_1"
   ]
  },
  {
   "cell_type": "code",
   "execution_count": 28,
   "metadata": {},
   "outputs": [],
   "source": [
    "#Best accuracy when k=7"
   ]
  },
  {
   "cell_type": "markdown",
   "metadata": {},
   "source": [
    "Decision Tree"
   ]
  },
  {
   "cell_type": "code",
   "execution_count": 29,
   "metadata": {},
   "outputs": [],
   "source": [
    "from sklearn.tree import DecisionTreeClassifier"
   ]
  },
  {
   "cell_type": "code",
   "execution_count": 30,
   "metadata": {},
   "outputs": [
    {
     "data": {
      "text/plain": [
       "array([0.86735689, 0.86735689, 0.86735689, 0.86735689, 0.86735689])"
      ]
     },
     "execution_count": 30,
     "metadata": {},
     "output_type": "execute_result"
    }
   ],
   "source": [
    "Md = 6\n",
    "mean_acc_2 = np.zeros((Md-1))\n",
    "\n",
    "# loop through different value of Max Depth\n",
    "for n in range(1,Md):\n",
    "    \n",
    "    LoanTree = DecisionTreeClassifier(criterion=\"entropy\", max_depth = n)\n",
    "    LoanTree.fit(X_train,y_train)\n",
    "    PredTree=LoanTree.predict(X_test)\n",
    "    mean_acc_2[n-1] = metrics.accuracy_score(y_test, PredTree)\n",
    "\n",
    "\n",
    "mean_acc_2"
   ]
  },
  {
   "cell_type": "code",
   "execution_count": 31,
   "metadata": {},
   "outputs": [],
   "source": [
    "# Same accuracy for all Max depth value, we choose Md = 2 here."
   ]
  },
  {
   "cell_type": "markdown",
   "metadata": {},
   "source": [
    "Support Vector Machine"
   ]
  },
  {
   "cell_type": "code",
   "execution_count": 32,
   "metadata": {},
   "outputs": [],
   "source": [
    "from sklearn import svm\n",
    "from sklearn.metrics import f1_score"
   ]
  },
  {
   "cell_type": "code",
   "execution_count": 33,
   "metadata": {},
   "outputs": [
    {
     "name": "stderr",
     "output_type": "stream",
     "text": [
      "/Users/yuewang/anaconda3/lib/python3.7/site-packages/sklearn/metrics/classification.py:1135: UndefinedMetricWarning: F-score is ill-defined and being set to 0.0 in labels with no predicted samples.\n",
      "  'precision', 'predicted', average, warn_for)\n"
     ]
    },
    {
     "data": {
      "text/plain": [
       "[0.8062384928608916, 0.8057463251691794, 0.767198229110193]"
      ]
     },
     "execution_count": 33,
     "metadata": {},
     "output_type": "execute_result"
    }
   ],
   "source": [
    "Kernel = ['rbf','poly','sigmoid']\n",
    "\n",
    "mean_acc_3=[]\n",
    "\n",
    "# loop through different types of kernels\n",
    "for n in Kernel:\n",
    "    \n",
    "    lf = svm.SVC(kernel=n)\n",
    "    lf.fit(X_train,y_train)\n",
    "    yhat=lf.predict(X_test)\n",
    "    mean_acc_3.append(f1_score(y_test, yhat, average='weighted'))\n",
    "\n",
    "mean_acc_3"
   ]
  },
  {
   "cell_type": "code",
   "execution_count": 34,
   "metadata": {},
   "outputs": [],
   "source": [
    "#Achieve best accuracy when kernel is 'rbf'"
   ]
  },
  {
   "cell_type": "markdown",
   "metadata": {},
   "source": [
    "Logistic Regression"
   ]
  },
  {
   "cell_type": "code",
   "execution_count": 35,
   "metadata": {},
   "outputs": [],
   "source": [
    "from sklearn.linear_model import LogisticRegression\n",
    "from sklearn.metrics import jaccard_similarity_score"
   ]
  },
  {
   "cell_type": "code",
   "execution_count": 36,
   "metadata": {},
   "outputs": [
    {
     "data": {
      "text/plain": [
       "[0.8673568909895716,\n",
       " 0.8673568909895716,\n",
       " 0.8673568909895716,\n",
       " 0.8673568909895716]"
      ]
     },
     "execution_count": 36,
     "metadata": {},
     "output_type": "execute_result"
    }
   ],
   "source": [
    "c_param_range = [0.01,0.1,1,10]\n",
    "mean_acc_4 = []\n",
    "c_param_range = [0.01,0.1,1,10]\n",
    "for i in c_param_range:\n",
    "    LR = LogisticRegression(C=0.01, solver='liblinear').fit(X_train,y_train)\n",
    "    yhat = LR.predict(X_test)\n",
    "    mean_acc_4.append(jaccard_similarity_score(y_test, yhat))\n",
    "    \n",
    "mean_acc_4"
   ]
  },
  {
   "cell_type": "markdown",
   "metadata": {},
   "source": [
    "\n",
    "Among these models, Decision Tree and Logistic Regression models performed the best, both have accuracy at around 86.7357% "
   ]
  },
  {
   "cell_type": "markdown",
   "metadata": {},
   "source": [
    "## Result and Discussion <a name=\"rnd\"></a>"
   ]
  },
  {
   "cell_type": "markdown",
   "metadata": {},
   "source": [
    "We have achieved high accuracy from Decision Tree and Logistic Regression model, however the dataset that we analysed on was not perfect and there are many things we need to be careful with. For example, when we cleaned up the data, we replaced the missing or out of range value with mean for feature ‘age band of driver’, this assumption could possibly make the dataset very biased.  It also comes to my attention that among the features I chose, there are some value of features are not identified, such as ‘unknown’ value for sex of driver, the insufficiency of important information is a concern.\n",
    "\n",
    "In addition to the above, we cannot ignore the truth that in the dataset, one accident doesn’t necessarily contribute only one row of records. In other words, those records are not completely mutually exclusive, a deeper analysis on this would be required to receive more accurate information.\n"
   ]
  },
  {
   "cell_type": "markdown",
   "metadata": {},
   "source": [
    "## Conclusion <a name=\"conclusion\"></a>"
   ]
  },
  {
   "cell_type": "markdown",
   "metadata": {},
   "source": [
    "To conclude, I have analysed the relationship between the car accident severity with features in relation to drivers and environmental conditions. The classification models were built to predict the accident severity given the related features. \n",
    "\n",
    "This would be helpful for the local government to come up with some ideas regarding how to reduce the chance of car accidents and their severity. Based on the result, the pricing teams in the general insurance companies are able to calculate the reasonable premium rates which is also competitive to the market.\n"
   ]
  }
 ],
 "metadata": {
  "kernelspec": {
   "display_name": "Python 3",
   "language": "python",
   "name": "python3"
  },
  "language_info": {
   "codemirror_mode": {
    "name": "ipython",
    "version": 3
   },
   "file_extension": ".py",
   "mimetype": "text/x-python",
   "name": "python",
   "nbconvert_exporter": "python",
   "pygments_lexer": "ipython3",
   "version": "3.7.0"
  }
 },
 "nbformat": 4,
 "nbformat_minor": 2
}
